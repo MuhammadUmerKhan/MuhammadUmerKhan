{
 "cells": [
  {
   "cell_type": "code",
   "execution_count": null,
   "metadata": {},
   "outputs": [],
   "source": [
    "!pip install pillow rembg"
   ]
  },
  {
   "cell_type": "code",
   "execution_count": null,
   "metadata": {},
   "outputs": [],
   "source": [
    "from PIL import Image\n",
    "from rembg import remove\n",
    "\n",
    "# Load the input image\n",
    "input_image = \"./assests/tensorflow.png\"\n",
    "\n",
    "# Open the image\n",
    "with open(input_image, \"rb\") as img_file:\n",
    "    input_data = img_file.read()\n",
    "\n",
    "# Remove the background\n",
    "output_data = remove(input_data)\n",
    "\n",
    "# Save the image with transparent background\n",
    "output_image = \"tensorflow_.png\"\n",
    "with open(output_image, \"wb\") as out_file:\n",
    "    out_file.write(output_data)\n",
    "\n",
    "print(\"Background removed and saved as\", output_image)"
   ]
  }
 ],
 "metadata": {
  "kernelspec": {
   "display_name": "3.12.6",
   "language": "python",
   "name": "myenv"
  },
  "language_info": {
   "codemirror_mode": {
    "name": "ipython",
    "version": 3
   },
   "file_extension": ".py",
   "mimetype": "text/x-python",
   "name": "python",
   "nbconvert_exporter": "python",
   "pygments_lexer": "ipython3",
   "version": "3.12.6"
  }
 },
 "nbformat": 4,
 "nbformat_minor": 2
}
